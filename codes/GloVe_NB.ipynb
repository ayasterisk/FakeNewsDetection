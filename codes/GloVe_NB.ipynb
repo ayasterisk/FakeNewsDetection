{
 "cells": [
  {
   "cell_type": "markdown",
   "metadata": {
    "id": "-dQMtBg1OoEy"
   },
   "source": [
    "# Prepare Data\n"
   ]
  },
  {
   "cell_type": "code",
   "execution_count": null,
   "metadata": {
    "id": "lzv6fccwNUXq"
   },
   "outputs": [],
   "source": [
    "!rm -rf /content/sample_data"
   ]
  },
  {
   "cell_type": "code",
   "execution_count": null,
   "metadata": {
    "colab": {
     "base_uri": "https://localhost:8080/"
    },
    "executionInfo": {
     "elapsed": 6884,
     "status": "ok",
     "timestamp": 1732294617179,
     "user": {
      "displayName": "Nguyen Duy Khanh",
      "userId": "15040074532030430956"
     },
     "user_tz": -420
    },
    "id": "dU5UWZgRNVN0",
    "outputId": "5e3ee9ff-34e2-4fb4-eb97-316bfeebf495"
   },
   "outputs": [
    {
     "name": "stdout",
     "output_type": "stream",
     "text": [
      "Downloading...\n",
      "From: https://drive.google.com/uc?id=1fli_hyDy7Io0coUNdk1P-DUPWtpfBwsX\n",
      "To: /content/news-NLP.csv\n",
      "100% 30.7M/30.7M [00:00<00:00, 39.3MB/s]\n"
     ]
    }
   ],
   "source": [
    "!gdown 1fli_hyDy7Io0coUNdk1P-DUPWtpfBwsX"
   ]
  },
  {
   "cell_type": "markdown",
   "metadata": {
    "id": "KF3s6tjHOwjG"
   },
   "source": [
    "# Import Lib\n"
   ]
  },
  {
   "cell_type": "code",
   "execution_count": null,
   "metadata": {
    "id": "iBjEEopZNonZ"
   },
   "outputs": [],
   "source": [
    "import pandas as pd\n",
    "from gensim.models import Word2Vec\n",
    "from sklearn.naive_bayes import GaussianNB\n",
    "from sklearn.metrics import accuracy_score, classification_report\n",
    "from sklearn.model_selection import train_test_split\n",
    "import numpy as np\n",
    "import re\n",
    "import nltk\n",
    "from nltk.corpus import stopwords\n",
    "from nltk.stem import WordNetLemmatizer\n",
    "import matplotlib.pyplot as plt\n",
    "import seaborn as sns\n",
    "from sklearn.metrics import accuracy_score, precision_score, recall_score, f1_score"
   ]
  },
  {
   "cell_type": "markdown",
   "metadata": {
    "id": "tAk5tqgtO02v"
   },
   "source": [
    "# Prepare Training Data\n",
    "### Lemmatizer + NLTK"
   ]
  },
  {
   "cell_type": "code",
   "execution_count": null,
   "metadata": {
    "colab": {
     "base_uri": "https://localhost:8080/",
     "height": 165
    },
    "executionInfo": {
     "elapsed": 511,
     "status": "error",
     "timestamp": 1732678634852,
     "user": {
      "displayName": "Nguyen Duy Khanh",
      "userId": "15040074532030430956"
     },
     "user_tz": -420
    },
    "id": "zArlXoz_Nsr5",
    "outputId": "06503c6d-c86f-435f-d14c-ed43f57d1f47"
   },
   "outputs": [],
   "source": [
    "nltk.download('stopwords')\n",
    "nltk.download('wordnet')"
   ]
  },
  {
   "cell_type": "code",
   "execution_count": null,
   "metadata": {
    "id": "MKa_5XT4N6Gq"
   },
   "outputs": [],
   "source": [
    "df = pd.read_csv('news-NLP.csv')\n",
    "df = df.drop(df.columns[0], axis=1)"
   ]
  },
  {
   "cell_type": "code",
   "execution_count": null,
   "metadata": {
    "id": "gBbGlk5CN-ee"
   },
   "outputs": [],
   "source": [
    "df['label'] = df['label'].apply(lambda x: 1 if x == \"FAKE\" else 0)\n",
    "df['content'] = df['title'] + ' ' + df['text']"
   ]
  },
  {
   "cell_type": "code",
   "execution_count": null,
   "metadata": {
    "id": "zbeORQ5HOBBw"
   },
   "outputs": [],
   "source": [
    "stop_words = set(stopwords.words('english'))\n",
    "lemmatizer = WordNetLemmatizer()"
   ]
  },
  {
   "cell_type": "code",
   "execution_count": null,
   "metadata": {
    "id": "UtMSoCgdODAH"
   },
   "outputs": [],
   "source": [
    "def preprocess_text(text):\n",
    "    text = re.sub(r'\\W', ' ', text)\n",
    "    text = text.lower()\n",
    "    words = text.split()\n",
    "    words = [lemmatizer.lemmatize(word) for word in words if word not in stop_words]\n",
    "    return words"
   ]
  },
  {
   "cell_type": "code",
   "execution_count": null,
   "metadata": {
    "id": "1G2kh9QWOJaa"
   },
   "outputs": [],
   "source": [
    "df['processed_content'] = df['content'].apply(preprocess_text)"
   ]
  },
  {
   "cell_type": "markdown",
   "metadata": {
    "id": "psgts-hSPOEh"
   },
   "source": [
    "# GloVe Model\n"
   ]
  },
  {
   "cell_type": "code",
   "execution_count": null,
   "metadata": {
    "colab": {
     "base_uri": "https://localhost:8080/"
    },
    "collapsed": true,
    "executionInfo": {
     "elapsed": 213163,
     "status": "ok",
     "timestamp": 1732294936935,
     "user": {
      "displayName": "Nguyen Duy Khanh",
      "userId": "15040074532030430956"
     },
     "user_tz": -420
    },
    "id": "oAZwPeWtr446",
    "outputId": "71c669b2-b28e-49de-b0e8-903729c621aa"
   },
   "outputs": [
    {
     "name": "stdout",
     "output_type": "stream",
     "text": [
      "--2024-11-22 16:58:43--  http://nlp.stanford.edu/data/glove.6B.zip\n",
      "Resolving nlp.stanford.edu (nlp.stanford.edu)... 171.64.67.140\n",
      "Connecting to nlp.stanford.edu (nlp.stanford.edu)|171.64.67.140|:80... connected.\n",
      "HTTP request sent, awaiting response... 302 Found\n",
      "Location: https://nlp.stanford.edu/data/glove.6B.zip [following]\n",
      "--2024-11-22 16:58:43--  https://nlp.stanford.edu/data/glove.6B.zip\n",
      "Connecting to nlp.stanford.edu (nlp.stanford.edu)|171.64.67.140|:443... connected.\n",
      "HTTP request sent, awaiting response... 301 Moved Permanently\n",
      "Location: https://downloads.cs.stanford.edu/nlp/data/glove.6B.zip [following]\n",
      "--2024-11-22 16:58:44--  https://downloads.cs.stanford.edu/nlp/data/glove.6B.zip\n",
      "Resolving downloads.cs.stanford.edu (downloads.cs.stanford.edu)... 171.64.64.22\n",
      "Connecting to downloads.cs.stanford.edu (downloads.cs.stanford.edu)|171.64.64.22|:443... connected.\n",
      "HTTP request sent, awaiting response... 200 OK\n",
      "Length: 862182613 (822M) [application/zip]\n",
      "Saving to: ‘glove.6B.zip’\n",
      "\n",
      "glove.6B.zip        100%[===================>] 822.24M  4.51MB/s    in 3m 1s   \n",
      "\n",
      "2024-11-22 17:01:46 (4.55 MB/s) - ‘glove.6B.zip’ saved [862182613/862182613]\n",
      "\n",
      "Archive:  glove.6B.zip\n",
      "  inflating: glove.6B.50d.txt        \n",
      "  inflating: glove.6B.100d.txt       \n",
      "  inflating: glove.6B.200d.txt       \n",
      "  inflating: glove.6B.300d.txt       \n"
     ]
    }
   ],
   "source": [
    "!wget http://nlp.stanford.edu/data/glove.6B.zip\n",
    "!unzip glove.6B.zip"
   ]
  },
  {
   "cell_type": "code",
   "execution_count": null,
   "metadata": {
    "id": "4u9PC0sJr6li"
   },
   "outputs": [],
   "source": [
    "embeddings_index = {}\n",
    "with open('glove.6B.100d.txt', encoding='utf-8') as f:\n",
    "    for line in f:\n",
    "        values = line.split()\n",
    "        word = values[0]\n",
    "        coefs = np.asarray(values[1:], dtype='float32')\n",
    "        embeddings_index[word] = coefs"
   ]
  },
  {
   "cell_type": "code",
   "execution_count": null,
   "metadata": {
    "collapsed": true,
    "id": "lGfuMXk3aTP3"
   },
   "outputs": [],
   "source": [
    "embedding_dim = 100\n",
    "word_index = {word: index for index, word in enumerate(set([word for sublist in df['processed_content'] for word in sublist]))}\n",
    "embedding_matrix = np.zeros((len(word_index) + 1, embedding_dim))\n",
    "for word, i in word_index.items():\n",
    "    embedding_vector = embeddings_index.get(word)\n",
    "    if embedding_vector is not None:\n",
    "        embedding_matrix[i] = embedding_vector\n",
    "\n",
    "max_length = 100\n",
    "sequences = [[word_index[word] for word in text if word in word_index] for text in df['processed_content']]\n",
    "\n",
    "padded_sequences = np.array([np.pad(seq, (0, max(0, max_length - len(seq))))[:max_length] for seq in sequences])"
   ]
  },
  {
   "cell_type": "markdown",
   "metadata": {
    "id": "YLikiLsZPYDt"
   },
   "source": [
    "# Training With Naive Bayes"
   ]
  },
  {
   "cell_type": "code",
   "execution_count": null,
   "metadata": {
    "id": "cW4hj6PQ1sjN"
   },
   "outputs": [],
   "source": [
    "X_train, X_test, y_train, y_test = train_test_split(padded_sequences, df['label'], test_size=0.2, random_state=42)\n",
    "\n",
    "X_train_avg = np.array([np.mean(embedding_matrix[seq], axis=0) for seq in X_train])\n",
    "X_test_avg = np.array([np.mean(embedding_matrix[seq], axis=0) for seq in X_test])\n",
    "\n",
    "gnb = GaussianNB()\n",
    "gnb.fit(X_train_avg, y_train)\n",
    "\n",
    "y_pred = gnb.predict(X_test_avg)"
   ]
  },
  {
   "cell_type": "markdown",
   "metadata": {
    "id": "d8kWDUfMPyZj"
   },
   "source": [
    "# Evaluate\n",
    "### Accuracy, Precision, Recall, F1-Score"
   ]
  },
  {
   "cell_type": "code",
   "execution_count": null,
   "metadata": {
    "colab": {
     "base_uri": "https://localhost:8080/"
    },
    "executionInfo": {
     "elapsed": 531,
     "status": "ok",
     "timestamp": 1732296973368,
     "user": {
      "displayName": "Nguyen Duy Khanh",
      "userId": "15040074532030430956"
     },
     "user_tz": -420
    },
    "id": "7M4heg_W2Dqj",
    "outputId": "8eb9b047-fefb-44f2-9b16-d299d6cd2758"
   },
   "outputs": [
    {
     "name": "stdout",
     "output_type": "stream",
     "text": [
      "Accuracy: 72.38\n",
      "Precision: 71.86\n",
      "Recall: 72.77\n",
      "F1-Score: 72.31\n"
     ]
    }
   ],
   "source": [
    "accuracy = accuracy_score(y_test, y_pred)\n",
    "precision = precision_score(y_test, y_pred)\n",
    "recall = recall_score(y_test, y_pred)\n",
    "f1 = f1_score(y_test, y_pred)\n",
    "\n",
    "print('Accuracy: %.2f' % (accuracy * 100))\n",
    "print('Precision: %.2f' % (precision * 100))\n",
    "print('Recall: %.2f' % (recall * 100))\n",
    "print('F1-Score: %.2f' % (f1 * 100))"
   ]
  },
  {
   "cell_type": "markdown",
   "metadata": {
    "id": "fDtTuVY5Yd99"
   },
   "source": [
    "# Test Sentence Real or Fake"
   ]
  },
  {
   "cell_type": "code",
   "execution_count": null,
   "metadata": {
    "colab": {
     "base_uri": "https://localhost:8080/"
    },
    "executionInfo": {
     "elapsed": 525,
     "status": "ok",
     "timestamp": 1732295302992,
     "user": {
      "displayName": "Nguyen Duy Khanh",
      "userId": "15040074532030430956"
     },
     "user_tz": -420
    },
    "id": "aJVT6hd1YVOc",
    "outputId": "ba4f0d75-3cc4-4509-bedb-0746b0ed6030"
   },
   "outputs": [
    {
     "name": "stdout",
     "output_type": "stream",
     "text": [
      "The sentence is classified as: Fake news\n"
     ]
    }
   ],
   "source": [
    "test_sentence = \"This is a sample sentence to check if it is real or fake.\"\n",
    "processed_sentence = preprocess_text(test_sentence)\n",
    "sentence_vector = np.mean(embedding_matrix[[word_index[word] for word in processed_sentence if word in word_index]], axis=0)\n",
    "sentence_vector = sentence_vector.reshape(1, -1)\n",
    "predicted_label = gnb.predict(sentence_vector)\n",
    "if predicted_label[0] == 1:\n",
    "    print(\"The sentence is classified as: Fake news\")\n",
    "else:\n",
    "    print(\"The sentence is classified as: Real news\")"
   ]
  },
  {
   "cell_type": "code",
   "execution_count": null,
   "metadata": {
    "colab": {
     "base_uri": "https://localhost:8080/"
    },
    "executionInfo": {
     "elapsed": 537,
     "status": "ok",
     "timestamp": 1732295311925,
     "user": {
      "displayName": "Nguyen Duy Khanh",
      "userId": "15040074532030430956"
     },
     "user_tz": -420
    },
    "id": "e_bq8xM4XiJ6",
    "outputId": "92408edd-8fea-4a0b-d435-d9283a5af4ff"
   },
   "outputs": [
    {
     "name": "stdout",
     "output_type": "stream",
     "text": [
      "The sentence is classified as: Real news\n"
     ]
    }
   ],
   "source": [
    "test_sentence = \"U.S. Secretary of State John F. Kerry said Monday that he will stop in Paris later this week, amid criticism that no top American officials attended Sunday’s unity march against terrorism.\"\n",
    "processed_sentence = preprocess_text(test_sentence)\n",
    "sentence_vector = np.mean(embedding_matrix[[word_index[word] for word in processed_sentence if word in word_index]], axis=0)\n",
    "sentence_vector = sentence_vector.reshape(1, -1)\n",
    "predicted_label = gnb.predict(sentence_vector)\n",
    "if predicted_label[0] == 1:\n",
    "    print(\"The sentence is classified as: Fake news\")\n",
    "else:\n",
    "    print(\"The sentence is classified as: Real news\")"
   ]
  }
 ],
 "metadata": {
  "accelerator": "GPU",
  "colab": {
   "collapsed_sections": [
    "-dQMtBg1OoEy",
    "KF3s6tjHOwjG"
   ],
   "gpuType": "T4",
   "provenance": [
    {
     "file_id": "1rfw7Te8a1rtXpGSCcdxtGFblyfyamucE",
     "timestamp": 1732293361248
    },
    {
     "file_id": "1A0o82gSsE_O2CxA6UYn2n5yHd9-gYZBd",
     "timestamp": 1732237308237
    },
    {
     "file_id": "1UyIJ93VEEjVVQ7XjCpjKzPkslN5r95ru",
     "timestamp": 1732236234236
    }
   ],
   "toc_visible": true
  },
  "kernelspec": {
   "display_name": "base",
   "language": "python",
   "name": "python3"
  },
  "language_info": {
   "name": "python",
   "version": "3.12.7"
  }
 },
 "nbformat": 4,
 "nbformat_minor": 0
}
